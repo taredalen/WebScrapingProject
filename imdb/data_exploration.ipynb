{
 "cells": [
  {
   "cell_type": "code",
   "execution_count": 81,
   "metadata": {
    "collapsed": true
   },
   "outputs": [
    {
     "name": "stdout",
     "output_type": "stream",
     "text": [
      "<class 'pandas.core.frame.DataFrame'>\n",
      "RangeIndex: 2 entries, 0 to 1\n",
      "Data columns (total 11 columns):\n",
      " #   Column             Non-Null Count  Dtype  \n",
      "---  ------             --------------  -----  \n",
      " 0   link               2 non-null      object \n",
      " 1   year               2 non-null      int64  \n",
      " 2   genre              2 non-null      object \n",
      " 3   rating             2 non-null      float64\n",
      " 4   income             2 non-null      int64  \n",
      " 5   metascore          2 non-null      float64\n",
      " 6   user review url    2 non-null      object \n",
      " 7   critic review url  2 non-null      object \n",
      " 8   users reviews      2 non-null      object \n",
      " 9   critics reviews    2 non-null      object \n",
      " 10  title              2 non-null      object \n",
      "dtypes: float64(2), int64(2), object(7)\n",
      "memory usage: 304.0+ bytes\n"
     ]
    }
   ],
   "source": [
    "import json\n",
    "import pandas as pd\n",
    "import matplotlib.pyplot as plt\n",
    "from pandas.io.json import json_normalize\n",
    "\n",
    "with open('data2.json','r') as f:\n",
    "    data = json.loads(f.read())\n",
    "\n",
    "df = pd.json_normalize(data, meta='title', record_path=['results'])\n",
    "\n",
    "df['year'] = df['year'].astype(int)\n",
    "df['income'] = df['income'].astype(int)\n",
    "df['rating'] = pd.to_numeric(df['rating'])\n",
    "df['metascore'] = pd.to_numeric(df['metascore'])/10\n",
    "\n",
    "df.info()"
   ]
  },
  {
   "cell_type": "code",
   "execution_count": 82,
   "outputs": [
    {
     "name": "stdout",
     "output_type": "stream",
     "text": [
      "                      title  year  rating  metascore     income  \\\n",
      "0  The Shawshank Redemption  1994     9.3        8.1    3884504   \n",
      "1             The Godfather  1972     9.2       10.0  244340098   \n",
      "\n",
      "            genre  \n",
      "0         [Drama]  \n",
      "1  [Crime, Drama]  \n"
     ]
    }
   ],
   "source": [
    "print(df[['title','year', 'rating', 'metascore', 'income', 'genre']])"
   ],
   "metadata": {
    "collapsed": false,
    "pycharm": {
     "name": "#%%\n"
    }
   }
  },
  {
   "cell_type": "code",
   "execution_count": 83,
   "outputs": [
    {
     "data": {
      "text/plain": "<Figure size 432x288 with 1 Axes>",
      "image/png": "[encoded data removed]"
     },
     "metadata": {
      "needs_background": "light"
     },
     "output_type": "display_data"
    }
   ],
   "source": [
    "df.plot(x='title', y=['rating', 'metascore'])\n",
    "plt.show()"
   ],
   "metadata": {
    "collapsed": false,
    "pycharm": {
     "name": "#%%\n"
    }
   }
  },
  {
   "cell_type": "code",
   "execution_count": 86,
   "outputs": [
    {
     "data": {
      "text/plain": "<AxesSubplot:xlabel='genre'>"
     },
     "execution_count": 86,
     "metadata": {},
     "output_type": "execute_result"
    },
    {
     "data": {
      "text/plain": "<Figure size 432x288 with 1 Axes>",
      "image/png": "[encoded data removed]"
     },
     "metadata": {
      "needs_background": "light"
     },
     "output_type": "display_data"
    }
   ],
   "source": [
    "df.plot(x=\"genre\", y=\"metascore\", kind=\"bar\", rot=5, fontsize=4)\n"
   ],
   "metadata": {
    "collapsed": false,
    "pycharm": {
     "name": "#%%\n"
    }
   }
  },
  {
   "cell_type": "code",
   "execution_count": 87,
   "outputs": [
    {
     "data": {
      "text/plain": "<AxesSubplot:xlabel='genre'>"
     },
     "execution_count": 87,
     "metadata": {},
     "output_type": "execute_result"
    },
    {
     "data": {
      "text/plain": "<Figure size 432x288 with 1 Axes>",
      "image/png": "[encoded data removed]"
     },
     "metadata": {
      "needs_background": "light"
     },
     "output_type": "display_data"
    }
   ],
   "source": [
    "df.plot(x=\"genre\", y=[\"metascore\", \"rating\"], kind=\"bar\")"
   ],
   "metadata": {
    "collapsed": false,
    "pycharm": {
     "name": "#%%\n"
    }
   }
  },
  {
   "cell_type": "code",
   "execution_count": null,
   "outputs": [],
   "source": [],
   "metadata": {
    "collapsed": false,
    "pycharm": {
     "name": "#%%\n"
    }
   }
  }
 ],
 "metadata": {
  "kernelspec": {
   "display_name": "Python 3",
   "language": "python",
   "name": "python3"
  },
  "language_info": {
   "codemirror_mode": {
    "name": "ipython",
    "version": 2
   },
   "file_extension": ".py",
   "mimetype": "text/x-python",
   "name": "python",
   "nbconvert_exporter": "python",
   "pygments_lexer": "ipython2",
   "version": "2.7.6"
  }
 },
 "nbformat": 4,
 "nbformat_minor": 0
}